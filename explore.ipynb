{
 "cells": [
  {
   "cell_type": "code",
   "execution_count": 1,
   "metadata": {},
   "outputs": [],
   "source": [
    "import requests\n",
    "import pandas as pd"
   ]
  },
  {
   "cell_type": "code",
   "execution_count": 2,
   "metadata": {},
   "outputs": [],
   "source": [
    "BASE_URL = \"https://www.ntnu.no/studier/studier_i_utlandet/rapport/table.php\"\n",
    "payload = {\n",
    "    'away_country':'default',\n",
    "    'away_city': '', \n",
    "    'away_university': '',\n",
    "    'home_university':'default',\n",
    "    'searchOldReports':'yes',\n",
    "    'home_faculty':'',\n",
    "    'home_institute': '',\n",
    "    'exchange_program':'default',\n",
    "    'exchange_period':'default',\n",
    "    'number-of-views':'1000',\n",
    "    'advanced_search_enabled':'yes',\n",
    "    'language':'no'\n",
    "}\n",
    "data = requests.get(BASE_URL, params = payload)"
   ]
  },
  {
   "cell_type": "code",
   "execution_count": 3,
   "metadata": {},
   "outputs": [],
   "source": [
    "def text_array_for_row(row): \n",
    "    res = []\n",
    "    for el in row.children:\n",
    "        if el != '\\n':\n",
    "            res.append(el.text)\n",
    "    return res"
   ]
  },
  {
   "cell_type": "code",
   "execution_count": 4,
   "metadata": {},
   "outputs": [
    {
     "name": "stdout",
     "output_type": "stream",
     "text": [
      "United States\n"
     ]
    }
   ],
   "source": [
    "import json\n",
    "import os\n",
    "from dotenv import load_dotenv\n",
    "\n",
    "load_dotenv()\n",
    "\n",
    "\n",
    "def search_country(query: str) -> str: \n",
    "    payload = {\n",
    "        'access_key': os.getenv(\"ACCESS_KEY\"),\n",
    "        'query': query,\n",
    "    }\n",
    "    data = requests.get(\"http://api.positionstack.com/v1/forward\", params = payload)\n",
    "    j = data.json()\n",
    "    if 'data' not in j:\n",
    "        print(f\"Could not find: {query}\")\n",
    "        return \"Unknown\"\n",
    "        \n",
    "    if len(j['data']) == 0:\n",
    "        print(f\"Could not find: {query}\")\n",
    "        return \"Unknown\"\n",
    "    return j['data'][0]['country'] \n",
    "    \n",
    "print(search_country(\"Boston\"))"
   ]
  },
  {
   "cell_type": "code",
   "execution_count": 2,
   "metadata": {},
   "outputs": [],
   "source": [
    "import pickle\n",
    "countries = pickle.load(open(\"countries.pickle\", \"rb\"))"
   ]
  },
  {
   "cell_type": "code",
   "execution_count": 3,
   "metadata": {},
   "outputs": [],
   "source": [
    "df = pickle.load(open(\"data.pickle\", \"rb\"))"
   ]
  },
  {
   "cell_type": "code",
   "execution_count": 7,
   "metadata": {},
   "outputs": [
    {
     "data": {
      "text/plain": [
       "49"
      ]
     },
     "execution_count": 7,
     "metadata": {},
     "output_type": "execute_result"
    }
   ],
   "source": [
    "len(df[df[\"Studieprogram\"] == \"Datateknologi\"])"
   ]
  },
  {
   "cell_type": "code",
   "execution_count": 18,
   "metadata": {},
   "outputs": [
    {
     "data": {
      "text/plain": [
       "United States    358\n",
       "Italy            188\n",
       "Australia        144\n",
       "Germany          128\n",
       "France            98\n",
       "                ... \n",
       "Jamaica            1\n",
       "Israel             1\n",
       "Montenegro         1\n",
       "Tunisia            1\n",
       "Palestine          1\n",
       "Name: Land, Length: 82, dtype: int64"
      ]
     },
     "execution_count": 18,
     "metadata": {},
     "output_type": "execute_result"
    }
   ],
   "source": [
    "counts = pickle.load(open(\"country_counts.pickle\", \"rb\"))\n",
    "counts"
   ]
  },
  {
   "cell_type": "code",
   "execution_count": 7,
   "metadata": {},
   "outputs": [
    {
     "name": "stderr",
     "output_type": "stream",
     "text": [
      "/opt/homebrew/Caskroom/miniforge/base/envs/mlp/lib/python3.9/site-packages/bs4/__init__.py:435: MarkupResemblesLocatorWarning: The input looks more like a filename than markup. You may want to open this file and pass the filehandle into Beautiful Soup.\n",
      "  warnings.warn(\n"
     ]
    },
    {
     "name": "stdout",
     "output_type": "stream",
     "text": [
      "Num rows: 0\n"
     ]
    },
    {
     "ename": "IndexError",
     "evalue": "list index out of range",
     "output_type": "error",
     "traceback": [
      "\u001b[0;31m---------------------------------------------------------------------------\u001b[0m",
      "\u001b[0;31mIndexError\u001b[0m                                Traceback (most recent call last)",
      "\u001b[1;32m/Users/oyvind/code/data_analysis/idi_utveksling/explore.ipynb Cell 7\u001b[0m in \u001b[0;36m<cell line: 7>\u001b[0;34m()\u001b[0m\n\u001b[1;32m      <a href='vscode-notebook-cell:/Users/oyvind/code/data_analysis/idi_utveksling/explore.ipynb#W6sZmlsZQ%3D%3D?line=3'>4</a>\u001b[0m rows \u001b[39m=\u001b[39m soup\u001b[39m.\u001b[39mfind_all(\u001b[39m\"\u001b[39m\u001b[39mtr\u001b[39m\u001b[39m\"\u001b[39m)\n\u001b[1;32m      <a href='vscode-notebook-cell:/Users/oyvind/code/data_analysis/idi_utveksling/explore.ipynb#W6sZmlsZQ%3D%3D?line=5'>6</a>\u001b[0m \u001b[39mprint\u001b[39m(\u001b[39mf\u001b[39m\u001b[39m\"\u001b[39m\u001b[39mNum rows: \u001b[39m\u001b[39m{\u001b[39;00m\u001b[39mlen\u001b[39m(rows)\u001b[39m}\u001b[39;00m\u001b[39m\"\u001b[39m)\n\u001b[0;32m----> <a href='vscode-notebook-cell:/Users/oyvind/code/data_analysis/idi_utveksling/explore.ipynb#W6sZmlsZQ%3D%3D?line=6'>7</a>\u001b[0m df \u001b[39m=\u001b[39m pd\u001b[39m.\u001b[39mDataFrame(\u001b[39mlist\u001b[39m(\u001b[39mmap\u001b[39m(\u001b[39mlambda\u001b[39;00m x: text_array_for_row(x), rows[\u001b[39m1\u001b[39m:])), columns\u001b[39m=\u001b[39mtext_array_for_row(rows[\u001b[39m0\u001b[39;49m]))\n\u001b[1;32m      <a href='vscode-notebook-cell:/Users/oyvind/code/data_analysis/idi_utveksling/explore.ipynb#W6sZmlsZQ%3D%3D?line=7'>8</a>\u001b[0m df \u001b[39m=\u001b[39m df\u001b[39m.\u001b[39mdropna()\n\u001b[1;32m     <a href='vscode-notebook-cell:/Users/oyvind/code/data_analysis/idi_utveksling/explore.ipynb#W6sZmlsZQ%3D%3D?line=9'>10</a>\u001b[0m df\u001b[39m.\u001b[39mhead()\n",
      "\u001b[0;31mIndexError\u001b[0m: list index out of range"
     ]
    }
   ],
   "source": [
    "from bs4 import BeautifulSoup\n",
    "soup = BeautifulSoup(data.content.decode(\"utf8\"), 'html.parser')\n",
    "\n",
    "rows = soup.find_all(\"tr\")\n",
    "\n",
    "print(f\"Num rows: {len(rows)}\")\n",
    "df = pd.DataFrame(list(map(lambda x: text_array_for_row(x), rows[1:])), columns=text_array_for_row(rows[0]))\n",
    "df = df.dropna()\n",
    "\n",
    "df.head()"
   ]
  },
  {
   "cell_type": "code",
   "execution_count": null,
   "metadata": {},
   "outputs": [
    {
     "name": "stderr",
     "output_type": "stream",
     "text": [
      " 81%|████████  | 578/718 [00:00<00:00, 2410.48it/s]"
     ]
    },
    {
     "name": "stdout",
     "output_type": "stream",
     "text": [
      "Could not find: KU\n"
     ]
    },
    {
     "name": "stderr",
     "output_type": "stream",
     "text": [
      " 88%|████████▊ | 630/718 [00:20<00:03, 22.35it/s]  "
     ]
    },
    {
     "name": "stdout",
     "output_type": "stream",
     "text": [
      "Could not find: University of Helsinki/Helsingin Yliopisto\n",
      "Could not find: Göteborgs universitet, Sahlgrenska Academy\n"
     ]
    },
    {
     "name": "stderr",
     "output_type": "stream",
     "text": [
      " 94%|█████████▍| 677/718 [00:40<00:04,  8.97it/s]"
     ]
    },
    {
     "name": "stdout",
     "output_type": "stream",
     "text": [
      "Could not find: SciencesPo - Lyon 2\n",
      "Could not find: Université de Toulouse II le Mirail\n",
      "Could not find: Norges permanente delegasjon i Genève\n",
      "Could not find: SJTU\n"
     ]
    },
    {
     "name": "stderr",
     "output_type": "stream",
     "text": [
      "100%|██████████| 718/718 [00:54<00:00, 13.25it/s]\n"
     ]
    }
   ],
   "source": [
    "import tqdm\n",
    "cities = df['By'].unique()\n",
    "for city in tqdm.tqdm(cities): \n",
    "    if not city in countries:\n",
    "        countries[city] = search_country(city)\n"
   ]
  },
  {
   "cell_type": "code",
   "execution_count": null,
   "metadata": {},
   "outputs": [],
   "source": [
    "from deep_translator import GoogleTranslator\n",
    "\n",
    "translator = GoogleTranslator(source='auto', target='no')"
   ]
  },
  {
   "cell_type": "code",
   "execution_count": null,
   "metadata": {},
   "outputs": [],
   "source": [
    "for city, country in countries.items():\n",
    "    if country is not None: \n",
    "        countries[city] = translator.translate(country)\n",
    "    "
   ]
  },
  {
   "cell_type": "code",
   "execution_count": null,
   "metadata": {},
   "outputs": [],
   "source": [
    "import pickle\n",
    "\n",
    "\n",
    "with open('countries.pickle', 'wb') as handle:\n",
    "    pickle.dump(countries, handle, protocol=pickle.HIGHEST_PROTOCOL)"
   ]
  },
  {
   "cell_type": "code",
   "execution_count": null,
   "metadata": {},
   "outputs": [],
   "source": [
    "\n",
    "df['Land'] = df.apply(lambda x: countries[x['By']], axis=1)"
   ]
  },
  {
   "cell_type": "code",
   "execution_count": null,
   "metadata": {},
   "outputs": [],
   "source": [
    "df = df.dropna()"
   ]
  },
  {
   "cell_type": "code",
   "execution_count": null,
   "metadata": {},
   "outputs": [
    {
     "data": {
      "text/html": [
       "<div>\n",
       "<style scoped>\n",
       "    .dataframe tbody tr th:only-of-type {\n",
       "        vertical-align: middle;\n",
       "    }\n",
       "\n",
       "    .dataframe tbody tr th {\n",
       "        vertical-align: top;\n",
       "    }\n",
       "\n",
       "    .dataframe thead th {\n",
       "        text-align: right;\n",
       "    }\n",
       "</style>\n",
       "<table border=\"1\" class=\"dataframe\">\n",
       "  <thead>\n",
       "    <tr style=\"text-align: right;\">\n",
       "      <th></th>\n",
       "      <th>Land</th>\n",
       "      <th>By</th>\n",
       "      <th>Vertsinstitusjon</th>\n",
       "      <th>Hjemmeinstitusjon</th>\n",
       "      <th>Studieprogram</th>\n",
       "      <th>Periode</th>\n",
       "    </tr>\n",
       "  </thead>\n",
       "  <tbody>\n",
       "    <tr>\n",
       "      <th>0</th>\n",
       "      <td>Germany</td>\n",
       "      <td>Berlin</td>\n",
       "      <td>TU Berlin</td>\n",
       "      <td>NTNU</td>\n",
       "      <td>Materialteknologi</td>\n",
       "      <td>Vår 2022</td>\n",
       "    </tr>\n",
       "    <tr>\n",
       "      <th>1</th>\n",
       "      <td>Denmark</td>\n",
       "      <td>københavn</td>\n",
       "      <td>Danmark tekniske universitet</td>\n",
       "      <td>NTNU</td>\n",
       "      <td>Bioteknologi MSBIOTECH</td>\n",
       "      <td>Vår 2022</td>\n",
       "    </tr>\n",
       "    <tr>\n",
       "      <th>2</th>\n",
       "      <td>Italy</td>\n",
       "      <td>Milano</td>\n",
       "      <td>Politecnico di Milano</td>\n",
       "      <td>NTNU</td>\n",
       "      <td>Produktutvikling og Produksjon</td>\n",
       "      <td>Vår 2022</td>\n",
       "    </tr>\n",
       "    <tr>\n",
       "      <th>3</th>\n",
       "      <td>Germany</td>\n",
       "      <td>München</td>\n",
       "      <td>Ludwig-Maximilian Universität (LMU)</td>\n",
       "      <td>NTNU</td>\n",
       "      <td>Profesjonsstudiet i psykologi</td>\n",
       "      <td>Høst og vår 2021/22</td>\n",
       "    </tr>\n",
       "    <tr>\n",
       "      <th>4</th>\n",
       "      <td>Italy</td>\n",
       "      <td>Roma</td>\n",
       "      <td>La Sapienza</td>\n",
       "      <td>NTNU</td>\n",
       "      <td>I&amp;amp;IKT - Geomatikk</td>\n",
       "      <td>Vår 2023</td>\n",
       "    </tr>\n",
       "  </tbody>\n",
       "</table>\n",
       "</div>"
      ],
      "text/plain": [
       "      Land         By                     Vertsinstitusjon Hjemmeinstitusjon  \\\n",
       "0  Germany     Berlin                            TU Berlin              NTNU   \n",
       "1  Denmark  københavn         Danmark tekniske universitet              NTNU   \n",
       "2    Italy     Milano                Politecnico di Milano              NTNU   \n",
       "3  Germany    München  Ludwig-Maximilian Universität (LMU)              NTNU   \n",
       "4    Italy       Roma                          La Sapienza              NTNU   \n",
       "\n",
       "                    Studieprogram              Periode  \n",
       "0               Materialteknologi             Vår 2022  \n",
       "1          Bioteknologi MSBIOTECH             Vår 2022  \n",
       "2  Produktutvikling og Produksjon             Vår 2022  \n",
       "3   Profesjonsstudiet i psykologi  Høst og vår 2021/22  \n",
       "4           I&amp;IKT - Geomatikk             Vår 2023  "
      ]
     },
     "execution_count": 106,
     "metadata": {},
     "output_type": "execute_result"
    }
   ],
   "source": [
    "df.head()"
   ]
  },
  {
   "cell_type": "code",
   "execution_count": null,
   "metadata": {},
   "outputs": [],
   "source": [
    "df.to_pickle(\"data.pickle\")"
   ]
  },
  {
   "cell_type": "code",
   "execution_count": null,
   "metadata": {},
   "outputs": [
    {
     "data": {
      "text/plain": [
       "<AxesSubplot: >"
      ]
     },
     "execution_count": 116,
     "metadata": {},
     "output_type": "execute_result"
    },
    {
     "data": {
      "image/png": "[encoded data removed]",
      "text/plain": [
       "<Figure size 432x288 with 1 Axes>"
      ]
     },
     "metadata": {
      "needs_background": "light"
     },
     "output_type": "display_data"
    }
   ],
   "source": [
    "df[df['Studieprogram'] == \"Datateknologi\"]['Land'].value_counts().head(20).plot(kind='bar')"
   ]
  },
  {
   "cell_type": "code",
   "execution_count": null,
   "metadata": {},
   "outputs": [],
   "source": []
  },
  {
   "cell_type": "code",
   "execution_count": null,
   "metadata": {},
   "outputs": [
    {
     "data": {
      "text/plain": [
       "<AxesSubplot: >"
      ]
     },
     "execution_count": 111,
     "metadata": {},
     "output_type": "execute_result"
    },
    {
     "data": {
      "image/png": "[encoded data removed]",
      "text/plain": [
       "<Figure size 432x288 with 1 Axes>"
      ]
     },
     "metadata": {
      "needs_background": "light"
     },
     "output_type": "display_data"
    }
   ],
   "source": [
    "df['Land'].value_counts()"
   ]
  },
  {
   "cell_type": "code",
   "execution_count": null,
   "metadata": {},
   "outputs": [],
   "source": [
    "df.loc[df['Land'] == \"United States\", 'Land'] = 'United States of America'"
   ]
  },
  {
   "cell_type": "code",
   "execution_count": null,
   "metadata": {},
   "outputs": [
    {
     "data": {
      "text/plain": [
       "{'United States of America': 358,\n",
       " 'Italy': 188,\n",
       " 'Australia': 144,\n",
       " 'Germany': 128,\n",
       " 'France': 98,\n",
       " 'Denmark': 94,\n",
       " 'Spain': 89,\n",
       " 'Portugal': 77,\n",
       " 'United Kingdom': 72,\n",
       " 'Canada': 56,\n",
       " 'Venezuela': 39,\n",
       " 'South Africa': 39,\n",
       " 'Sweden': 39,\n",
       " 'Netherlands': 37,\n",
       " 'Singapore': 35,\n",
       " 'Unknown': 30,\n",
       " 'New Zealand': 27,\n",
       " 'Austria': 27,\n",
       " 'Switzerland': 24,\n",
       " 'South Korea': 23,\n",
       " 'Japan': 23,\n",
       " 'Belgium': 21,\n",
       " 'China': 20,\n",
       " 'Ghana': 20,\n",
       " 'Argentina': 18,\n",
       " 'Ireland': 16,\n",
       " 'Brazil': 14,\n",
       " 'Norway': 13,\n",
       " 'Ecuador': 13,\n",
       " 'Vietnam': 12,\n",
       " 'Chile': 12,\n",
       " 'Honduras': 12,\n",
       " 'Nepal': 12,\n",
       " 'Mexico': 8,\n",
       " 'Czechia': 8,\n",
       " 'Zambia': 8,\n",
       " 'Peru': 7,\n",
       " 'Hong Kong S.A.R.': 7,\n",
       " 'Zimbabwe': 7,\n",
       " 'Namibia': 6,\n",
       " 'Finland': 6,\n",
       " 'Belarus': 5,\n",
       " 'Cameroon': 5,\n",
       " 'Slovenia': 5,\n",
       " 'Iceland': 5,\n",
       " 'Nicaragua': 5,\n",
       " 'Philippines': 5,\n",
       " 'Hungary': 5,\n",
       " 'India': 4,\n",
       " 'Nigeria': 4,\n",
       " 'Paraguay': 4,\n",
       " 'Uganda': 4,\n",
       " 'Russia': 4,\n",
       " 'Tanzania': 4,\n",
       " 'Taiwan': 4,\n",
       " 'Indonesia': 3,\n",
       " 'Grenada': 3,\n",
       " 'Slovakia': 3,\n",
       " 'Malaysia': 3,\n",
       " 'Turkey': 2,\n",
       " 'Poland': 2,\n",
       " 'Colombia': 2,\n",
       " 'United Arab Emirates': 2,\n",
       " 'Greece': 2,\n",
       " 'Kenya': 2,\n",
       " 'Malawi': 2,\n",
       " 'Mozambique': 2,\n",
       " 'Bangladesh': 2,\n",
       " 'Thailand': 2,\n",
       " 'Morocco': 2,\n",
       " 'Mongolia': 1,\n",
       " 'Romania': 1,\n",
       " 'Cuba': 1,\n",
       " 'Angola': 1,\n",
       " 'Pakistan': 1,\n",
       " 'Barbados': 1,\n",
       " 'Bahrain': 1,\n",
       " 'Jamaica': 1,\n",
       " 'Israel': 1,\n",
       " 'Montenegro': 1,\n",
       " 'Tunisia': 1,\n",
       " 'Palestine': 1}"
      ]
     },
     "execution_count": 179,
     "metadata": {},
     "output_type": "execute_result"
    }
   ],
   "source": [
    "df['Land'].value_counts().to_pickle(\"country_counts.pickle\")\n",
    "\n",
    "df['Land'].value_counts().to_dict()"
   ]
  }
 ],
 "metadata": {
  "kernelspec": {
   "display_name": "env",
   "language": "python",
   "name": "python3"
  },
  "language_info": {
   "codemirror_mode": {
    "name": "ipython",
    "version": 3
   },
   "file_extension": ".py",
   "mimetype": "text/x-python",
   "name": "python",
   "nbconvert_exporter": "python",
   "pygments_lexer": "ipython3",
   "version": "3.9.6"
  },
  "orig_nbformat": 4,
  "vscode": {
   "interpreter": {
    "hash": "d8b62f0425e8d732d2448ba73f3b917cda4ef1831932ea8645b0e4a209968a1f"
   }
  }
 },
 "nbformat": 4,
 "nbformat_minor": 2
}
